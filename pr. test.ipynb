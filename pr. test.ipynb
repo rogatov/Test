{
 "cells": [
  {
   "cell_type": "markdown",
   "metadata": {},
   "source": [
    "# Тестовое задание, Рогатов Илья"
   ]
  },
  {
   "cell_type": "markdown",
   "metadata": {},
   "source": [
    "Решить задачу:\n",
    "\n",
    "Подкинули монету N раз. Кол-во случаев, когда выпал орёл, на 10% больше, чем кол-во случаев, когда выпала решка. При каком N мы можем сказать, что монета «нечестная» (орёл и решка выпадают с разной вероятностью)?\n",
    "Важен не только ответ, но и решение."
   ]
  },
  {
   "cell_type": "code",
   "execution_count": 1,
   "metadata": {},
   "outputs": [],
   "source": [
    "import numpy as np\n",
    "from scipy import stats"
   ]
  },
  {
   "cell_type": "code",
   "execution_count": 5,
   "metadata": {},
   "outputs": [
    {
     "name": "stdout",
     "output_type": "stream",
     "text": [
      "Populating the interactive namespace from numpy and matplotlib\n"
     ]
    }
   ],
   "source": [
    "%pylab inline"
   ]
  },
  {
   "cell_type": "markdown",
   "metadata": {},
   "source": [
    "Переведем задачу в термины проверку статистической гипотезы:"
   ]
  },
  {
   "cell_type": "markdown",
   "metadata": {},
   "source": [
    "* **выборка:** бинарный вектор длины $n$, где 1 — Орел, 0 — решка;\n",
    "* **гипотеза $H_0$:** Монета честная $(p=0.5)$;\n",
    "* **гипотеза $H_1$:** Монета нечестная $(p!=0.5)$;\n",
    "* **статистика $T$:** Количество единиц в выборке"
   ]
  },
  {
   "cell_type": "markdown",
   "metadata": {},
   "source": [
    "Так как кол-во случаев, когда выпал орёл, на 10% больше, чем кол-во случаев, когда выпала решка, то  мы имеем дело с выборкой, состоящей из 0 и 1, то есть, из распределения Бернулли $Ber(0.55)$. Нулевая гипотеза того, что монета честная соответствует значению $p=\\frac1{2}$, то есть, в каждом эксперименте вероятность выпадения орла равна $\\frac1{2}$. Сумма $n$ одинаково распределённых бернуллиевских случайных величин с параметром $p$ имеет биномиальное распределение $Bin(n, p)$. Следовательно, нулевое распределение статистики $T$ — $Bin\\left(n, \\frac1{2}\\right)$. В данном случае мы можем использовать двусторонний биноминальный критерий для доли.\n",
    "\n",
    "Для проверки гипотезы будем брать стандартный уровень значимости $\\alpha = 0.05$"
   ]
  },
  {
   "cell_type": "markdown",
   "metadata": {},
   "source": [
    "Проведем непосредственно тест. Построим график p-value в зависимости от количества бросков монеты. Количество успехов тогда будет равно $0.55n$"
   ]
  },
  {
   "cell_type": "code",
   "execution_count": 21,
   "metadata": {},
   "outputs": [
    {
     "data": {
      "text/plain": [
       "[<matplotlib.lines.Line2D at 0x16973e85ec8>]"
      ]
     },
     "execution_count": 21,
     "metadata": {},
     "output_type": "execute_result"
    },
    {
     "data": {
      "image/png": "[encoded data removed]",
      "text/plain": [
       "<Figure size 432x288 with 1 Axes>"
      ]
     },
     "metadata": {
      "needs_background": "light"
     },
     "output_type": "display_data"
    }
   ],
   "source": [
    "plt.plot([stats.binom_test(0.55*n, n, 0.5) for n in range(10,400)])"
   ]
  },
  {
   "cell_type": "markdown",
   "metadata": {},
   "source": [
    "Проверим, при каком значении мы можем отвергнуть нулевую гипотезу:"
   ]
  },
  {
   "cell_type": "code",
   "execution_count": 30,
   "metadata": {},
   "outputs": [
    {
     "name": "stdout",
     "output_type": "stream",
     "text": [
      "p-value: 0.048357318733369584 \n",
      "num of exps: 411\n"
     ]
    }
   ],
   "source": [
    "n = 10\n",
    "\n",
    "while stats.binom_test(0.55*n, n, 0.5) > 0.05:\n",
    "    n = n + 1\n",
    "    \n",
    "print('p-value:', stats.binom_test(0.55*n, n, 0.5) , '\\nnum of exps:', n)"
   ]
  },
  {
   "cell_type": "markdown",
   "metadata": {},
   "source": [
    "Видим, что при 411 бросках p-value < $\\alpha$ и мы отвергаем нулевую гипотезу в пользу альтернативной."
   ]
  },
  {
   "cell_type": "code",
   "execution_count": null,
   "metadata": {},
   "outputs": [],
   "source": []
  }
 ],
 "metadata": {
  "kernelspec": {
   "display_name": "Python 3",
   "language": "python",
   "name": "python3"
  },
  "language_info": {
   "codemirror_mode": {
    "name": "ipython",
    "version": 3
   },
   "file_extension": ".py",
   "mimetype": "text/x-python",
   "name": "python",
   "nbconvert_exporter": "python",
   "pygments_lexer": "ipython3",
   "version": "3.7.6"
  }
 },
 "nbformat": 4,
 "nbformat_minor": 4
}
